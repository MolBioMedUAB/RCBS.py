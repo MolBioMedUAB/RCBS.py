{
 "cells": [
  {
   "cell_type": "code",
   "execution_count": 1,
   "metadata": {},
   "outputs": [],
   "source": [
    "import RCBS\n",
    "from RCBS.selections import selection as selection\n",
    "from RCBS.md_analyser.measurements import *\n",
    "import MDAnalysis as mda\n",
    "\n",
    "import random"
   ]
  },
  {
   "cell_type": "raw",
   "metadata": {},
   "source": [
    "import nglview as nv"
   ]
  },
  {
   "cell_type": "markdown",
   "metadata": {},
   "source": [
    "# Step 1\n",
    "\n",
    "Create a MDAnalysis Universe containing the trajectory that is being analyzed."
   ]
  },
  {
   "cell_type": "code",
   "execution_count": 2,
   "metadata": {},
   "outputs": [],
   "source": [
    "route_to_files = '/home/mcanyelles/Calculations/trajectories_finals/DHA_12LOX/'\n",
    "u = mda.Universe(route_to_files + '3rde_A_HXA_solvatat_ion.prmtop', route_to_files + '5_prod_total_autoimage.nc')"
   ]
  },
  {
   "cell_type": "markdown",
   "metadata": {},
   "source": [
    "# Step 2\n",
    "Define the selections that will be used."
   ]
  },
  {
   "cell_type": "code",
   "execution_count": 3,
   "metadata": {
    "scrolled": true
   },
   "outputs": [],
   "source": [
    "FE   = selection(u, 'FE', sel_type='at_name')\n",
    "OH1  = selection(u, 8784, sel_type='at_num')\n",
    "\n",
    "C12  = selection(u, 8814, sel_type='at_num')\n",
    "H12A = selection(u, 8815, sel_type='at_num')\n",
    "H12B = selection(u, 8816, sel_type='at_num')\n",
    "H12  = H12A + H12B #multiple-atoms selections can be also done\n",
    "\n",
    "C9   = selection(u, 8807, sel_type='at_num')\n",
    "H9A  = selection(u, 8808, sel_type='at_num')\n",
    "H9B  = selection(u, 8809, sel_type='at_num')\n",
    "H9   = H9A + H9B\n",
    "\n",
    "C15  = selection(u, 8821, sel_type='at_num')\n",
    "H15A = selection(u, 8822, sel_type='at_num')\n",
    "H15B = selection(u, 8823, sel_type='at_num')\n",
    "H15  = H15A + H15B"
   ]
  },
  {
   "cell_type": "markdown",
   "metadata": {},
   "source": [
    "# Step 3 "
   ]
  },
  {
   "cell_type": "markdown",
   "metadata": {},
   "source": [
    "### Functions that will be used in the example"
   ]
  },
  {
   "cell_type": "code",
   "execution_count": 4,
   "metadata": {},
   "outputs": [
    {
     "data": {
      "text/plain": [
       "<function RCBS.md_analyser.measurements.dist_measure(sel1, sel2)>"
      ]
     },
     "execution_count": 4,
     "metadata": {},
     "output_type": "execute_result"
    }
   ],
   "source": [
    "dist_measure"
   ]
  },
  {
   "cell_type": "code",
   "execution_count": 5,
   "metadata": {
    "scrolled": true
   },
   "outputs": [
    {
     "data": {
      "text/plain": [
       "<function RCBS.md_analyser.measurements.dist_bool_output(dist, dist1, dist2=0, mode='lim')>"
      ]
     },
     "execution_count": 5,
     "metadata": {},
     "output_type": "execute_result"
    }
   ],
   "source": [
    "dist_bool_output"
   ]
  },
  {
   "cell_type": "markdown",
   "metadata": {},
   "source": [
    "### Define an array for each measurement and its corresponding boolean array"
   ]
  },
  {
   "cell_type": "markdown",
   "metadata": {},
   "source": [
    "*__Note:__ It is not necessary to store both the measurement and the boolean arrays, this is just an example of my personal way of doing this kind of analysis.*"
   ]
  },
  {
   "cell_type": "code",
   "execution_count": 6,
   "metadata": {},
   "outputs": [],
   "source": [
    "dist_C12 = []; dist_H12 = []; dist_C9 = []; dist_H9 = []; dist_C15 = []; dist_H15 = []\n",
    "bool_C12 = []; bool_H12 = []; bool_C9 = []; bool_H9 = []; bool_C15 = []; bool_H15 = []"
   ]
  },
  {
   "cell_type": "markdown",
   "metadata": {},
   "source": [
    "### Loop over the trajectory measuring each parameter and the corresponding boolean."
   ]
  },
  {
   "cell_type": "code",
   "execution_count": 7,
   "metadata": {},
   "outputs": [],
   "source": [
    "for ts in u.trajectory:\n",
    "    d_ = dist_measure(C12, OH1)\n",
    "    dist_C12.append(d_)\n",
    "    bool_C12.append(dist_bool_output(d_, 3.5))\n",
    "    d_ = dist_measure(H12, OH1)\n",
    "    dist_H12.append(d_)\n",
    "    bool_H12.append(dist_bool_output(d_, 3.5))\n",
    "    \n",
    "    d_ = dist_measure(C9, OH1)\n",
    "    dist_C9.append(d_)\n",
    "    bool_C9.append(dist_bool_output(d_, 3.5))\n",
    "    d_ = dist_measure(H9, OH1)\n",
    "    dist_H9.append(d_)\n",
    "    bool_H9.append(dist_bool_output(d_, 3.5))\n",
    "    \n",
    "    d_ = dist_measure(C15, OH1)\n",
    "    dist_C15.append(d_)\n",
    "    bool_C15.append(dist_bool_output(d_, 3.5))\n",
    "    d_ = dist_measure(H15, OH1)\n",
    "    dist_H15.append(d_)\n",
    "    bool_H15.append(dist_bool_output(d_, 3.5))\n",
    "    "
   ]
  },
  {
   "cell_type": "markdown",
   "metadata": {},
   "source": [
    "# Step 4"
   ]
  },
  {
   "cell_type": "markdown",
   "metadata": {},
   "source": [
    "### Create the boolean array resulting of the application of all the desired criteria"
   ]
  },
  {
   "cell_type": "code",
   "execution_count": 8,
   "metadata": {},
   "outputs": [
    {
     "name": "stdout",
     "output_type": "stream",
     "text": [
      "323\n"
     ]
    }
   ],
   "source": [
    "bool_all = []\n",
    "for i in range(len(bool_H12)):\n",
    "    bool_all.append(bool_H12[i] and bool_H9[i] and bool_H15[i])\n",
    "    \n",
    "print(bool_all.count(True))"
   ]
  },
  {
   "cell_type": "markdown",
   "metadata": {},
   "source": [
    "### Create and array containing the indexes of the frames that satisfy all the given criteria"
   ]
  },
  {
   "cell_type": "code",
   "execution_count": 9,
   "metadata": {},
   "outputs": [],
   "source": [
    "frame_index = []\n",
    "for i in range(len(bool_all)):\n",
    "    if bool_all[i] == True:\n",
    "        frame_index.append(i)"
   ]
  },
  {
   "cell_type": "markdown",
   "metadata": {},
   "source": [
    "### Randomly choose 10 indexes"
   ]
  },
  {
   "cell_type": "code",
   "execution_count": 10,
   "metadata": {},
   "outputs": [
    {
     "name": "stdout",
     "output_type": "stream",
     "text": [
      "[1168, 1708, 1856, 2180, 2294, 2535, 2626, 3071, 3171, 3199]\n"
     ]
    }
   ],
   "source": [
    "chosen_frames = []\n",
    "for i in range(0,10):\n",
    "    chosen_frames.append(random.choice(frame_index))\n",
    "    \n",
    "chosen_frames = sorted(chosen_frames)\n",
    "print(chosen_frames)"
   ]
  },
  {
   "cell_type": "markdown",
   "metadata": {},
   "source": [
    "### Export the selected frames"
   ]
  },
  {
   "cell_type": "code",
   "execution_count": 13,
   "metadata": {},
   "outputs": [
    {
     "name": "stderr",
     "output_type": "stream",
     "text": [
      "/home/mcanyelles/miniconda3/envs/py_env/lib/python3.6/site-packages/MDAnalysis/coordinates/PDB.py:1028: UserWarning: Found no information for attr: 'altLocs' Using default value of ' '\n",
      "  \"\".format(attrname, default))\n",
      "/home/mcanyelles/miniconda3/envs/py_env/lib/python3.6/site-packages/MDAnalysis/coordinates/PDB.py:1028: UserWarning: Found no information for attr: 'icodes' Using default value of ' '\n",
      "  \"\".format(attrname, default))\n",
      "/home/mcanyelles/miniconda3/envs/py_env/lib/python3.6/site-packages/MDAnalysis/coordinates/PDB.py:1028: UserWarning: Found no information for attr: 'occupancies' Using default value of '1.0'\n",
      "  \"\".format(attrname, default))\n",
      "/home/mcanyelles/miniconda3/envs/py_env/lib/python3.6/site-packages/MDAnalysis/coordinates/PDB.py:1028: UserWarning: Found no information for attr: 'tempfactors' Using default value of '0.0'\n",
      "  \"\".format(attrname, default))\n",
      "/home/mcanyelles/miniconda3/envs/py_env/lib/python3.6/site-packages/MDAnalysis/core/topologyattrs.py:2011: VisibleDeprecationWarning: Creating an ndarray from ragged nested sequences (which is a list-or-tuple of lists-or-tuples-or ndarrays with different lengths or shapes) is deprecated. If you meant to do this, you must specify 'dtype=object' when creating the ndarray\n",
      "  np.array(sorted(unique_bonds)), 4)\n"
     ]
    }
   ],
   "source": [
    "for i in chosen_frames:\n",
    "    u.trajectory[i]\n",
    "    sel = u.select_atoms('all')\n",
    "    sel.write(str(i-1) + '.pdb')"
   ]
  },
  {
   "cell_type": "markdown",
   "metadata": {},
   "source": [
    "### Export a specific frame"
   ]
  },
  {
   "cell_type": "code",
   "execution_count": 19,
   "metadata": {},
   "outputs": [
    {
     "name": "stderr",
     "output_type": "stream",
     "text": [
      "/home/mcanyelles/miniconda3/envs/py_env/lib/python3.6/site-packages/MDAnalysis/coordinates/PDB.py:1028: UserWarning: Found no information for attr: 'altLocs' Using default value of ' '\n",
      "  \"\".format(attrname, default))\n",
      "/home/mcanyelles/miniconda3/envs/py_env/lib/python3.6/site-packages/MDAnalysis/coordinates/PDB.py:1028: UserWarning: Found no information for attr: 'icodes' Using default value of ' '\n",
      "  \"\".format(attrname, default))\n",
      "/home/mcanyelles/miniconda3/envs/py_env/lib/python3.6/site-packages/MDAnalysis/coordinates/PDB.py:1028: UserWarning: Found no information for attr: 'occupancies' Using default value of '1.0'\n",
      "  \"\".format(attrname, default))\n",
      "/home/mcanyelles/miniconda3/envs/py_env/lib/python3.6/site-packages/MDAnalysis/coordinates/PDB.py:1028: UserWarning: Found no information for attr: 'tempfactors' Using default value of '0.0'\n",
      "  \"\".format(attrname, default))\n",
      "/home/mcanyelles/miniconda3/envs/py_env/lib/python3.6/site-packages/MDAnalysis/core/topologyattrs.py:2011: VisibleDeprecationWarning: Creating an ndarray from ragged nested sequences (which is a list-or-tuple of lists-or-tuples-or ndarrays with different lengths or shapes) is deprecated. If you meant to do this, you must specify 'dtype=object' when creating the ndarray\n",
      "  np.array(sorted(unique_bonds)), 4)\n"
     ]
    }
   ],
   "source": [
    "i = 1526\n",
    "if (i-1) in frame_index:\n",
    "    u.trajectory[i-1]\n",
    "    sel = u.select_atoms('all')\n",
    "    sel.write(str(i-1) + '.pdb')\n",
    "\n"
   ]
  },
  {
   "cell_type": "code",
   "execution_count": null,
   "metadata": {},
   "outputs": [],
   "source": []
  }
 ],
 "metadata": {
  "kernelspec": {
   "display_name": "Python 3",
   "language": "python",
   "name": "python3"
  },
  "language_info": {
   "codemirror_mode": {
    "name": "ipython",
    "version": 3
   },
   "file_extension": ".py",
   "mimetype": "text/x-python",
   "name": "python",
   "nbconvert_exporter": "python",
   "pygments_lexer": "ipython3",
   "version": "3.6.10"
  }
 },
 "nbformat": 4,
 "nbformat_minor": 4
}
