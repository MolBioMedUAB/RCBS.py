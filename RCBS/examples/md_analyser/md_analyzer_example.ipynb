{
 "cells": [
  {
   "cell_type": "code",
   "execution_count": 1,
   "metadata": {},
   "outputs": [
    {
     "data": {
      "application/vnd.jupyter.widget-view+json": {
       "model_id": "9d7cd412eec046619df5cf14f3c929bd",
       "version_major": 2,
       "version_minor": 0
      },
      "text/plain": [
       "_ColormakerRegistry()"
      ]
     },
     "metadata": {},
     "output_type": "display_data"
    }
   ],
   "source": [
    "import RCBS\n",
    "from RCBS.selections import selection\n",
    "from RCBS.md_analyser.measurements import *\n",
    "import MDAnalysis as mda\n",
    "\n",
    "import nglview as nv"
   ]
  },
  {
   "cell_type": "markdown",
   "metadata": {},
   "source": [
    "# TOC"
   ]
  },
  {
   "cell_type": "markdown",
   "metadata": {},
   "source": [
    "0. [Description of module](##Description-of-module)\n",
    "1. [Step 1](#Step-1): Universe loading\n",
    "2. [Step 2](#Step-2): Selections definition\n",
    "3. [Step 3](#Step-3): Measurements"
   ]
  },
  {
   "cell_type": "markdown",
   "metadata": {},
   "source": [
    "## Description of module"
   ]
  },
  {
   "cell_type": "markdown",
   "metadata": {},
   "source": [
    "## RCBS module"
   ]
  },
  {
   "cell_type": "code",
   "execution_count": 2,
   "metadata": {
    "scrolled": true
   },
   "outputs": [
    {
     "name": "stdout",
     "output_type": "stream",
     "text": [
      "Help on package RCBS:\n",
      "\n",
      "NAME\n",
      "    RCBS\n",
      "\n",
      "PACKAGE CONTENTS\n",
      "    exceptions\n",
      "    input (package)\n",
      "    md_analyser (package)\n",
      "    qmmm_setup (package)\n",
      "    selections\n",
      "\n",
      "FILE\n",
      "    /home/mcanyelles/miniconda3/envs/py_env/lib/python3.6/site-packages/RCBS.py-0.0a0-py3.6.egg/RCBS/__init__.py\n",
      "\n",
      "\n"
     ]
    }
   ],
   "source": [
    "help(RCBS)"
   ]
  },
  {
   "cell_type": "markdown",
   "metadata": {},
   "source": [
    "## Selections submodule"
   ]
  },
  {
   "cell_type": "code",
   "execution_count": 3,
   "metadata": {
    "scrolled": true
   },
   "outputs": [
    {
     "name": "stdout",
     "output_type": "stream",
     "text": [
      "Help on module RCBS.selections in RCBS:\n",
      "\n",
      "NAME\n",
      "    RCBS.selections\n",
      "\n",
      "FUNCTIONS\n",
      "    selection(u, sel_input, sel_type=None)\n",
      "        This function takes an input number or name and type of selection (atom or residue or none)\n",
      "        and transforms it into an MDAnalysis selection. The input can also be a list of numbers or name\n",
      "        and it can combine both types of input by using a list of selection types (of the same lenght).\n",
      "        \n",
      "        sel_type: at_num, at_name, res, none\n",
      "            at_num   -> atom number\n",
      "            at_name  -> atom name\n",
      "            res_num  -> residue number\n",
      "            res_name -> residue name\n",
      "            none     -> pipes the selection command directly\n",
      "\n",
      "FILE\n",
      "    /home/mcanyelles/miniconda3/envs/py_env/lib/python3.6/site-packages/RCBS.py-0.0a0-py3.6.egg/RCBS/selections.py\n",
      "\n",
      "\n"
     ]
    }
   ],
   "source": [
    "help(selections)"
   ]
  },
  {
   "cell_type": "markdown",
   "metadata": {},
   "source": [
    "## MD_analyser submodule"
   ]
  },
  {
   "cell_type": "code",
   "execution_count": 3,
   "metadata": {
    "scrolled": true
   },
   "outputs": [
    {
     "name": "stdout",
     "output_type": "stream",
     "text": [
      "Help on module RCBS.md_analyser.measurements in RCBS.md_analyser:\n",
      "\n",
      "NAME\n",
      "    RCBS.md_analyser.measurements\n",
      "\n",
      "FUNCTIONS\n",
      "    ang_measure(sel1, sel2, sel3)\n",
      "        This functions measures the angle between 3 specified atoms and returns the value between 0 and 360 degrees.\n",
      "        The input selections have to be single atoms.\n",
      "    \n",
      "    angle_bool_output(ang, ang1, ang2, mode='tol')\n",
      "        This function takes an input angle and the upper and lower limits or the central value and the tolerance and outputs\n",
      "        if it satisfies or not the given criteria.\n",
      "        All the input values are transformed into the (0, 360) degrees format.\n",
      "        The input values have to be in degrees, not in radians. They can be transformed using the np.rad2dreg() method, for example.\n",
      "        \n",
      "        mode:\n",
      "            lim -> limit mode, it requires a max and a min value\n",
      "            tol -> tolerance mode, it requires a central value and a min and max value\n",
      "    \n",
      "    dihe_measure(sel1, sel2, sel3, sel4)\n",
      "        This functions measures the dihedral angle between 4 specified atoms and returns the dihedral value between 0 and 360 degrees.\n",
      "        The input selections have to be single atoms.\n",
      "    \n",
      "    dist_WATbridge(u, sel1, sel2, sel1_env=3, sel2_env=3)\n",
      "        This function takes two selection and looks for the nearest bridgin water between them.\n",
      "        \n",
      "        It requires the universe (it needs to select the environment of each selection), the two selections,\n",
      "        the radius around each selection to look for waters (or the selections of the environment, which requires\n",
      "        the updating=True argument).\n",
      "        If no water has been found it will output 'None, None, None'.\n",
      "    \n",
      "    dist_bool_output(dist, dist1, dist2=0, mode='lim')\n",
      "        This function takes an input distance and the upper and lower limits or the central value and the tolerance and outputs\n",
      "        if it satisfies or not the given criteria.\n",
      "        \n",
      "        mode:\n",
      "            lim -> limit mode, it requires a max and a min value\n",
      "            tol -> tolerance mode, it requires a central value and a min and max value\n",
      "    \n",
      "    dist_measure(sel1, sel2)\n",
      "        This function outputs the minimum measured distance between the two input selections.\n",
      "    \n",
      "    dist_plane(sel, plane1, plane2=None, plane3=None)\n",
      "        This functions takes one input atom and 3 other input atoms that constitute a plane\n",
      "        and outputs the distance value and sign.\n",
      "        #    There are two sets of inputs: the sel, which is the atom that will be measured and which can be input as\n",
      "        #    a single atom selection, as a selection of multiple atoms or as a list of multiple selections; and the\n",
      "        #    plane1 (plane2, plane3), which are the three atoms that\n",
      "        Input selection has to be a selection of the atoms to be measured, while plane atoms can be either a\n",
      "        selection of 3 atoms or 3 selection of 1 atom.\n",
      "        The output is a float value or a list of float values depending on the length of the input selection\n",
      "\n",
      "FILE\n",
      "    /Users/mikicanyelles/miniconda3/envs/py_env/lib/python3.7/site-packages/RCBS/md_analyser/measurements.py\n",
      "\n",
      "\n"
     ]
    }
   ],
   "source": [
    "help(RCBS.md_analyser.measurements)"
   ]
  },
  {
   "cell_type": "markdown",
   "metadata": {},
   "source": [
    "# Step 1"
   ]
  },
  {
   "cell_type": "markdown",
   "metadata": {},
   "source": [
    "Create a MDAnalysis Universe containing the trajectory that is being analyzed."
   ]
  },
  {
   "cell_type": "code",
   "execution_count": 5,
   "metadata": {},
   "outputs": [],
   "source": [
    "route_to_files = '/home/mcanyelles/Calculations/trajectories_finals/DHA_12LOX/'\n",
    "u = mda.Universe(route_to_files + '3rde_A_HXA_solvatat_ion.prmtop', route_to_files + '5_prod_total_autoimage.nc')"
   ]
  },
  {
   "cell_type": "code",
   "execution_count": 6,
   "metadata": {},
   "outputs": [
    {
     "data": {
      "text/plain": [
       "<Universe with 63455 atoms>"
      ]
     },
     "execution_count": 6,
     "metadata": {},
     "output_type": "execute_result"
    }
   ],
   "source": [
    "u"
   ]
  },
  {
   "cell_type": "markdown",
   "metadata": {},
   "source": [
    "# Step 2"
   ]
  },
  {
   "cell_type": "markdown",
   "metadata": {},
   "source": [
    "Define the selections that will be used."
   ]
  },
  {
   "cell_type": "code",
   "execution_count": 7,
   "metadata": {
    "scrolled": true
   },
   "outputs": [],
   "source": [
    "FE   = selection(u, 'FE', sel_type='at_name')\n",
    "OH1  = selection(u, 8784, sel_type='at_num')\n",
    "\n",
    "C12  = selection(u, 8814, sel_type='at_num')\n",
    "H12A = selection(u, 8815, sel_type='at_num')\n",
    "H12B = selection(u, 8816, sel_type='at_num')\n",
    "H12  = H12A + H12B #multiple-atoms selections can be also done\n",
    "\n",
    "C9   = selection(u, 8807, sel_type='at_num')\n",
    "H9A  = selection(u, 8808, sel_type='at_num')\n",
    "H9B  = selection(u, 8809, sel_type='at_num')\n",
    "H9   = H9A + H9B\n",
    "\n",
    "C15  = selection(u, 8821, sel_type='at_num')\n",
    "H15A = selection(u, 8822, sel_type='at_num')\n",
    "H15B = selection(u, 8823, sel_type='at_num')\n",
    "H15  = H15A + H15B"
   ]
  },
  {
   "cell_type": "markdown",
   "metadata": {},
   "source": [
    "# Step 3"
   ]
  },
  {
   "cell_type": "markdown",
   "metadata": {},
   "source": [
    "Calculation of the requires measurements"
   ]
  },
  {
   "cell_type": "markdown",
   "metadata": {},
   "source": [
    "### Functions that will be used in the example"
   ]
  },
  {
   "cell_type": "code",
   "execution_count": 17,
   "metadata": {},
   "outputs": [
    {
     "name": "stdout",
     "output_type": "stream",
     "text": [
      "Help on function dist_measure in module RCBS.md_analyser.measurements:\n",
      "\n",
      "dist_measure(sel1, sel2)\n",
      "    This function outputs the minimum measured distance between the two input selections.\n",
      "\n"
     ]
    }
   ],
   "source": [
    "help(dist_measure) # func for measuring the distance between two given selections"
   ]
  },
  {
   "cell_type": "code",
   "execution_count": 18,
   "metadata": {
    "scrolled": true
   },
   "outputs": [
    {
     "name": "stdout",
     "output_type": "stream",
     "text": [
      "Help on function dist_bool_output in module RCBS.md_analyser.measurements:\n",
      "\n",
      "dist_bool_output(dist, dist1, dist2=0, mode='lim')\n",
      "    This function takes an input distance and the upper and lower limits or the central value and the tolerance and outputs\n",
      "    if it satisfies or not the given criteria.\n",
      "    \n",
      "    mode:\n",
      "        lim -> limit mode, it requires a max and a min value\n",
      "        tol -> tolerance mode, it requires a central value and a min and max value\n",
      "\n"
     ]
    }
   ],
   "source": [
    "help(dist_bool_output) # func for outputting a boolen value (T/F) from a given distance and the set limits"
   ]
  },
  {
   "cell_type": "markdown",
   "metadata": {},
   "source": [
    "### Define an array for each measurement and its corresponding boolean array"
   ]
  },
  {
   "cell_type": "markdown",
   "metadata": {},
   "source": [
    "*__Note:__ It is not necessary to store both the measurement and the boolean arrays, this is just an example of my personal way of doing this kind of analysis.*"
   ]
  },
  {
   "cell_type": "code",
   "execution_count": 10,
   "metadata": {},
   "outputs": [],
   "source": [
    "dist_C12 = []; dist_H12 = []; dist_C9 = []; dist_H9 = []; dist_C15 = []; dist_H15 = []\n",
    "bool_C12 = []; bool_H12 = []; bool_C9 = []; bool_H9 = []; bool_C15 = []; bool_H15 = []"
   ]
  },
  {
   "cell_type": "markdown",
   "metadata": {},
   "source": [
    "### Loop over the trajectory measuring each parameter and the corresponding boolean."
   ]
  },
  {
   "cell_type": "code",
   "execution_count": 11,
   "metadata": {},
   "outputs": [],
   "source": [
    "for ts in u.trajectory:\n",
    "    d_ = dist_measure(C12, OH1)\n",
    "    dist_C12.append(d_)\n",
    "    bool_C12.append(dist_bool_output(d_, 3.5))\n",
    "    d_ = dist_measure(H12, OH1)\n",
    "    dist_H12.append(d_)\n",
    "    bool_H12.append(dist_bool_output(d_, 3.5))\n",
    "    \n",
    "    d_ = dist_measure(C9, OH1)\n",
    "    dist_C9.append(d_)\n",
    "    bool_C9.append(dist_bool_output(d_, 3.5))\n",
    "    d_ = dist_measure(H9, OH1)\n",
    "    dist_H9.append(d_)\n",
    "    bool_H9.append(dist_bool_output(d_, 3.5))\n",
    "    \n",
    "    d_ = dist_measure(C15, OH1)\n",
    "    dist_C15.append(d_)\n",
    "    bool_C15.append(dist_bool_output(d_, 3.5))\n",
    "    d_ = dist_measure(H15, OH1)\n",
    "    dist_H15.append(d_)\n",
    "    bool_H15.append(dist_bool_output(d_, 3.5))\n",
    "    "
   ]
  },
  {
   "cell_type": "markdown",
   "metadata": {},
   "source": [
    "In this step, both distance and boolean arrays are created."
   ]
  },
  {
   "cell_type": "markdown",
   "metadata": {},
   "source": [
    "# Step 4"
   ]
  },
  {
   "cell_type": "markdown",
   "metadata": {},
   "source": [
    "Analysis of the results"
   ]
  },
  {
   "cell_type": "markdown",
   "metadata": {},
   "source": [
    "Distances can be easily plotted using matplotlib:"
   ]
  },
  {
   "cell_type": "code",
   "execution_count": 13,
   "metadata": {},
   "outputs": [
    {
     "data": {
      "image/png": "[encoded data removed]",
      "text/plain": [
       "<Figure size 432x288 with 1 Axes>"
      ]
     },
     "metadata": {
      "needs_background": "light"
     },
     "output_type": "display_data"
    }
   ],
   "source": [
    "import matplotlib.pyplot as plt\n",
    "\n",
    "plt.plot(range(0, len(dist_C12)), dist_C12)\n",
    "plt.show()\n",
    "plt.close()    "
   ]
  },
  {
   "cell_type": "markdown",
   "metadata": {},
   "source": [
    "Boolean arrays can be used for counting like follows:"
   ]
  },
  {
   "cell_type": "code",
   "execution_count": 16,
   "metadata": {},
   "outputs": [
    {
     "name": "stdout",
     "output_type": "stream",
     "text": [
      "24.58% of the frames satisfy the given criteria (dist C12-OH < 3.5)\n"
     ]
    }
   ],
   "source": [
    "#prints the percentage of frames where the criterium is satisfied\n",
    "\n",
    "percentage = bool_C12.count(True)/len(bool_C12)*100\n",
    "print(f'{percentage}% of the frames satisfy the given criteria (dist C12-OH < 3.5)')"
   ]
  },
  {
   "cell_type": "code",
   "execution_count": null,
   "metadata": {},
   "outputs": [],
   "source": []
  }
 ],
 "metadata": {
  "kernelspec": {
   "display_name": "Python 3",
   "language": "python",
   "name": "python3"
  },
  "language_info": {
   "codemirror_mode": {
    "name": "ipython",
    "version": 3
   },
   "file_extension": ".py",
   "mimetype": "text/x-python",
   "name": "python",
   "nbconvert_exporter": "python",
   "pygments_lexer": "ipython3",
   "version": "3.7.6"
  }
 },
 "nbformat": 4,
 "nbformat_minor": 4
}
