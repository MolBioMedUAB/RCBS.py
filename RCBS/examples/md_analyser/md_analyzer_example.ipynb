{
 "cells": [
  {
   "cell_type": "code",
   "execution_count": 1,
   "metadata": {},
   "outputs": [
    {
     "name": "stderr",
     "output_type": "stream",
     "text": [
      "/Users/mikicanyelles/miniconda3/envs/py_env/lib/python3.9/site-packages/MDAnalysis/coordinates/chemfiles.py:108: DeprecationWarning: distutils Version classes are deprecated. Use packaging.version instead.\n",
      "  MIN_CHEMFILES_VERSION = LooseVersion(\"0.9\")\n",
      "/Users/mikicanyelles/miniconda3/envs/py_env/lib/python3.9/site-packages/MDAnalysis/coordinates/TRJ.py:1209: DeprecationWarning: Please use `netcdf_file` from the `scipy.io` namespace, the `scipy.io.netcdf` namespace is deprecated.\n",
      "  class NCDFPicklable(scipy.io.netcdf.netcdf_file):\n"
     ]
    }
   ],
   "source": [
    "from MDAnalysis import Universe\n",
    "from RCBS.md_analyser import selections\n",
    "from RCBS.md_analyser import measurements\n",
    "from RCBS.md_analyser import frame_extractor\n",
    "\n",
    "import matplotlib.pyplot as plt"
   ]
  },
  {
   "cell_type": "markdown",
   "metadata": {},
   "source": [
    "# Description of the example file"
   ]
  },
  {
   "cell_type": "markdown",
   "metadata": {},
   "source": [
    "Example script for analysing a small trajectory using all the functions available in the Measurements class from md_analyser. Frame_extractor submodule is also exemplified in the last sections of the script."
   ]
  },
  {
   "cell_type": "markdown",
   "metadata": {},
   "source": [
    "# TOC"
   ]
  },
  {
   "cell_type": "markdown",
   "metadata": {},
   "source": [
    "1. [Load parameters and trajectory](#load)\n",
    "2. [Select the atoms to be used for the analysis](#select)\n",
    "3. [Analysis of the trajectory](#trajanalysis)\n",
    "4. [Plot the measurements with Matplotlib](#plot)\n",
    "5. [Apply criteria for statistical analysis](#applycriteria)"
   ]
  },
  {
   "cell_type": "markdown",
   "metadata": {},
   "source": [
    "# Load parameters and trajectory <a class=\"anchor\" id=\"load\"></a>"
   ]
  },
  {
   "cell_type": "markdown",
   "metadata": {},
   "source": [
    "In this section the trajectory along with the parameters will be loaded as a MDAnalysis universe"
   ]
  },
  {
   "cell_type": "code",
   "execution_count": 2,
   "metadata": {},
   "outputs": [],
   "source": [
    "parameters = 'parameters.prmtop' # AMBER parameters file\n",
    "trajectory = 'trajectory.nc'     # AMBER NetCDF coordinates (10 frames)\n",
    "\n",
    "u = Universe(parameters, trajectory)"
   ]
  },
  {
   "cell_type": "markdown",
   "metadata": {},
   "source": [
    "# Select the atoms to be used for the analysis <a class=\"anchor\" id=\"select\"></a>"
   ]
  },
  {
   "cell_type": "code",
   "execution_count": 3,
   "metadata": {},
   "outputs": [
    {
     "name": "stdout",
     "output_type": "stream",
     "text": [
      "Help on function selection in module RCBS.md_analyser.selections:\n",
      "\n",
      "selection(u, sel_input, sel_type=None)\n",
      "    This function takes an input number or name and type of selection (atom or residue or none)\n",
      "    and transforms it into an MDAnalysis selection. The input can also be a list of numbers or name\n",
      "    and it can combine both types of input by using a list of selection types (of the same lenght).\n",
      "    \n",
      "    sel_type: at_num, at_name, res, none\n",
      "        at_num   -> atom number\n",
      "        at_name  -> atom name\n",
      "        res_num  -> residue number\n",
      "        res_name -> residue name\n",
      "        none     -> pipes the selection command directly\n",
      "\n"
     ]
    }
   ],
   "source": [
    "help(selections.selection)"
   ]
  },
  {
   "cell_type": "code",
   "execution_count": 4,
   "metadata": {},
   "outputs": [],
   "source": [
    "C10 = selections.selection(u, 'C10', sel_type='at_name')\n",
    "C11 = selections.selection(u, 'C11', sel_type='at_name')\n",
    "C12 = selections.selection(u, 'C12', sel_type='at_name')\n",
    "C13 = selections.selection(u, 'C13', sel_type='at_name')\n",
    "C14 = selections.selection(u, 'C14', sel_type='at_name')\n",
    "\n",
    "H12 = selections.selection(u, ['H12A', 'H12B'], sel_type='at_name')\n",
    "cof = selections.selection(u, 10597, sel_type='at_num')\n",
    "\n",
    "COO = selections.selection(u, [10599, 10600, 10601], sel_type='at_num')"
   ]
  },
  {
   "cell_type": "markdown",
   "metadata": {},
   "source": [
    "# Analysis of the trajectory <a class=\"anchor\" id=\"trajanalysis\"></a>"
   ]
  },
  {
   "cell_type": "markdown",
   "metadata": {},
   "source": [
    "## Create the Measurements object"
   ]
  },
  {
   "cell_type": "code",
   "execution_count": 5,
   "metadata": {},
   "outputs": [
    {
     "name": "stdout",
     "output_type": "stream",
     "text": [
      "Help on class Measurements in module RCBS.md_analyser.measurements:\n",
      "\n",
      "class Measurements(builtins.object)\n",
      " |  Measurements(u)\n",
      " |  \n",
      " |  DESCRIPTION:\n",
      " |      Class containing all the possible analysis of a trajectory that RCBS is able to carry out. It creates a dictionary of results (self.results) containing all the results of the configurated measurements (by add_* functions) and calculated using run_measure function, and creates a dictionary of boolean values (self.boolean) containing the result of applying a certain criterium to a certain measurement.\n",
      " |  \n",
      " |  FUNCTIONS:\n",
      " |      - add_distance: measure the distance between two atoms or two groups of atoms (and return the shorter one)\n",
      " |      - add_dihedral: measure the dihedral angle between four atoms\n",
      " |      - add_angle:    measure the angle between three atoms\n",
      " |      - add_contacts: measure the number of contacts at a given distance from a given selection of one or more atoms\n",
      " |      - run_measure:  run the all the measurements previously added\n",
      " |      - run_boolean:  check if the measured parameters satisfy the given criteria\n",
      " |      - config_saver: save the dictionary in JSON or YAML format containing all the measurements to carry out with the run_measure function\n",
      " |  \n",
      " |  INPUT:\n",
      " |      - u: preloaded MDAnalysis' universe\n",
      " |  \n",
      " |  OUTPUT:\n",
      " |      - self.results: dictionary containing results keyed by the given name\n",
      " |      - self.boolean: dictionary containing the boolean results keyed by the given name of the criteria applied to self.results\n",
      " |  \n",
      " |  Methods defined here:\n",
      " |  \n",
      " |  __init__(self, u)\n",
      " |      Initialize self.  See help(type(self)) for accurate signature.\n",
      " |  \n",
      " |  add_angle(self, name, sel1, sel2, sel3, units='deg', domain=360)\n",
      " |      DESCRIPTION:\n",
      " |          This functions measures the angle between 3 specified atoms and returns the value between 0 and 360 degrees.\n",
      " |          The input selections have to be single atoms.\n",
      " |      \n",
      " |      OPTIONS:\n",
      " |          - Name of the measurement\n",
      " |          - units: option for selecting the output units of the dihedral\n",
      " |              - degree\n",
      " |              - rad\n",
      " |      \n",
      " |          - domain: option for specifying the domain of the output measures\n",
      " |              - 180, pi: option for -180,180 domain\n",
      " |              - 360, 2pi: option for 0,360 domain. Default option\n",
      " |      \n",
      " |      INPUT:\n",
      " |          - Selection of four atoms in three different AtomGroups. They have to be input with the correct order\n",
      " |      \n",
      " |      OUTPUT:\n",
      " |          - Angle between the input atoms\n",
      " |  \n",
      " |  add_contacts(self, name, sel, sel_env=3, interactions='all', include_WAT=False)\n",
      " |      DESCRIPTION:\n",
      " |          This function takes a Universe, a selection and a radius and returns the list of residues nearer than the specified radius.\n",
      " |      \n",
      " |      INPUT:\n",
      " |          - Name of the measurement\n",
      " |          - u            -> MDAnalysis Universe\n",
      " |          - sel          -> selection of central atoms. It has to be an AtomGroup\n",
      " |          - sel_env      -> radius (in ang)\n",
      " |          - interactions -> type of interactions to be considered (all, polar, nonpolar, donorHbond, none). Custom\n",
      " |                            interactions can be also analysed by passing a list of residues names\n",
      " |      \n",
      " |      OUTPUT:\n",
      " |          - List of dictionaries containing the name and number of all interacting residues\n",
      " |  \n",
      " |  add_dihedral(self, name, sel1, sel2, sel3, sel4, units='degree', domain=360)\n",
      " |      DESCRIPTION:\n",
      " |          This functions measures the dihedral angle between 4 specified atoms and returns the dihedral value between 0 and 360 degrees.\n",
      " |          The input selections have to be single atoms.\n",
      " |      \n",
      " |      OPTIONS:\n",
      " |          - units: option for selecting the output units of the dihedral\n",
      " |              - degree\n",
      " |              - rad\n",
      " |      \n",
      " |          - domain: option for specifying the domain of the output measures\n",
      " |              - 180, pi: option for -180,180 domain\n",
      " |              - 360, 2pi: option for 0,360 domain. Default option\n",
      " |      \n",
      " |      INPUT:\n",
      " |          - Name of the measurement\n",
      " |          - Selection of four atoms in four different AtomGroups. They have to be input with the correct order\n",
      " |      \n",
      " |      OUTPUT:\n",
      " |          - Dihedral angle between the input atoms\n",
      " |  \n",
      " |  add_distance(self, name, sel1, sel2)\n",
      " |      DESCRIPTION:\n",
      " |          This function outputs the minimum measured distance between the two input selections or coordinates or their combination.\n",
      " |      \n",
      " |      INPUT:\n",
      " |          - Name of the measurement\n",
      " |          - Two selections, which can contain more than one atom\n",
      " |      \n",
      " |      OUTPUT:\n",
      " |          - Shorter distance between sel1 and sel2 (in ang)\n",
      " |  \n",
      " |  config_saver(self, config_filename)\n",
      " |      DESCRIPTION:\n",
      " |          Function for saving the configuration of a measurement run into a file (in json or yaml format).\n",
      " |      \n",
      " |      INPUT:\n",
      " |          - self (containing the measurements list of dictionaries) and the file name\n",
      " |      \n",
      " |      OUTPUT:\n",
      " |          - the dictionary saved in the file\n",
      " |      \n",
      " |      TODO:\n",
      " |          - [] Check what happens when selections are not AtomGroups but indices or names\n",
      " |  \n",
      " |  run_boolean(self, *bool_configs, combine=True, save_output=False)\n",
      " |      DESCRIPTION:\n",
      " |          Function for checking if the measured results satisfy the given criteria.\n",
      " |      \n",
      " |      CHECKERS:\n",
      " |          List of con\n",
      " |          {\n",
      " |              measure_name : , #mandatory. Has to be the same from the results dictionary.\n",
      " |              measure_type : dist | ang | dihe, # default is dist\n",
      " |              mode : lim | tol, #default is lim\n",
      " |              ref_val1 : , #mandatory\n",
      " |              ref_val2 :  # default is 0\n",
      " |          }\n",
      " |          EX: {measure_name : , measure_type : dist, mode : lim, ref_val1\n",
      " |      \n",
      " |      INPUT:\n",
      " |          - self: containing the self.results dictionary\n",
      " |          - bool_configs: list of dictionaries containing the information about the criteria to apply. The 'CHECKERS' section explains the structure of the dictionaries.\n",
      " |      \n",
      " |      OPTIONS:\n",
      " |          - combine: boolean argument. If true it adds an array containing the boolean per-frame values of the combination of all the other criteria.\n",
      " |                  The combination is calculated using the and logivcal operation.\n",
      " |          - save_output: Pseudoboolean value for storing the resutls as a file. False means no storing, any other string with the json or yaml extension\n",
      " |                  means save the results in a file called as given.\n",
      " |  \n",
      " |  run_measure(self, save_output=False, input_config=False)\n",
      " |      DESCRIPTION:\n",
      " |          Function for runninng all the configured measurments on a given trajectory (loaded as self.universe). It can take also a configuration stored in a file instead of taking the in-situ configurated measurement.\n",
      " |      \n",
      " |      OPTIONS:\n",
      " |          - save_output: Pseudoboolean value for storing the resutls as a file. False means no storing, any other string with the json or yaml extension means save the results in a file called as given.\n",
      " |          - input_config: Pseudoboolean value for loading a configuration file. It is checked in order to find missing information that may lead to errors on the runninng.\n",
      " |      \n",
      " |      INPUT:\n",
      " |          - self: containing self.universe and self.measurements (if not loading a configuration file)\n",
      " |      \n",
      " |      OUPTUT:\n",
      " |          - self.results: dictionary containing arrays of the results keyed by the given name of the configuration.\n",
      " |  \n",
      " |  ----------------------------------------------------------------------\n",
      " |  Data descriptors defined here:\n",
      " |  \n",
      " |  __dict__\n",
      " |      dictionary for instance variables (if defined)\n",
      " |  \n",
      " |  __weakref__\n",
      " |      list of weak references to the object (if defined)\n",
      "\n"
     ]
    }
   ],
   "source": [
    "help(measurements.Measurements)"
   ]
  },
  {
   "cell_type": "code",
   "execution_count": 6,
   "metadata": {},
   "outputs": [],
   "source": [
    "m = measurements.Measurements(u)"
   ]
  },
  {
   "cell_type": "markdown",
   "metadata": {},
   "source": [
    "## Add the measurements to compute"
   ]
  },
  {
   "cell_type": "code",
   "execution_count": 7,
   "metadata": {},
   "outputs": [],
   "source": [
    "m.add_distance('dist_H12', cof, H12)\n",
    "m.add_angle('angle_C11C12C13', C11, C12, C13)\n",
    "m.add_dihedral('dihe_C10C11C13C14', C10, C11, C13, C14, domain=180)\n",
    "m.add_contacts('contacts_COO', COO, sel_env=5, interactions='all', include_WAT=True)"
   ]
  },
  {
   "cell_type": "markdown",
   "metadata": {},
   "source": [
    "## Run the measurements"
   ]
  },
  {
   "cell_type": "code",
   "execution_count": 8,
   "metadata": {},
   "outputs": [],
   "source": [
    "m.run_measure() #Default arguments: save_output=False, input_config=False"
   ]
  },
  {
   "cell_type": "markdown",
   "metadata": {},
   "source": [
    "# Plot the measurements with Matplotlib <a class=\"anchor\" id=\"plot\"></a>"
   ]
  },
  {
   "cell_type": "markdown",
   "metadata": {},
   "source": [
    "## Distance measurement"
   ]
  },
  {
   "cell_type": "code",
   "execution_count": 9,
   "metadata": {},
   "outputs": [
    {
     "data": {
      "image/png": "[encoded data removed]",
      "text/plain": [
       "<Figure size 432x288 with 1 Axes>"
      ]
     },
     "metadata": {
      "needs_background": "light"
     },
     "output_type": "display_data"
    }
   ],
   "source": [
    "plt.plot(range(len(m.universe.trajectory)), m.results['dist_H12'])\n",
    "\n",
    "plt.xlabel('Frame')\n",
    "plt.ylabel('Distance (Å)')\n",
    "\n",
    "plt.grid()\n",
    "plt.show()"
   ]
  },
  {
   "cell_type": "markdown",
   "metadata": {},
   "source": [
    "## Angle measurement"
   ]
  },
  {
   "cell_type": "code",
   "execution_count": 10,
   "metadata": {},
   "outputs": [
    {
     "data": {
      "image/png": "[encoded data removed]",
      "text/plain": [
       "<Figure size 432x288 with 1 Axes>"
      ]
     },
     "metadata": {
      "needs_background": "light"
     },
     "output_type": "display_data"
    }
   ],
   "source": [
    "plt.plot(range(len(m.universe.trajectory)), m.results['angle_C11C12C13'])\n",
    "\n",
    "plt.xlabel('Frame')\n",
    "plt.ylabel('Angle (°)')\n",
    "\n",
    "plt.grid()\n",
    "plt.show()"
   ]
  },
  {
   "cell_type": "markdown",
   "metadata": {},
   "source": [
    "## Dihedral measurement"
   ]
  },
  {
   "cell_type": "code",
   "execution_count": 11,
   "metadata": {},
   "outputs": [
    {
     "data": {
      "image/png": "[encoded data removed]",
      "text/plain": [
       "<Figure size 432x288 with 1 Axes>"
      ]
     },
     "metadata": {
      "needs_background": "light"
     },
     "output_type": "display_data"
    }
   ],
   "source": [
    "plt.plot(range(len(m.universe.trajectory)), m.results['dihe_C10C11C13C14'])\n",
    "\n",
    "plt.xlabel('Frame')\n",
    "plt.ylabel('Dihedral (°)')\n",
    "\n",
    "plt.grid()\n",
    "plt.show()"
   ]
  },
  {
   "cell_type": "markdown",
   "metadata": {},
   "source": [
    "## Contacts measurement"
   ]
  },
  {
   "cell_type": "code",
   "execution_count": 12,
   "metadata": {},
   "outputs": [],
   "source": [
    "# Convert the list of dictonaries of contacts (ID: residue_type) per frame to \n",
    "# a list of the number of contacts per frame\n",
    "\n",
    "m.results['contacts_COO_len'] = []\n",
    "\n",
    "for c in m.results['contacts_COO']:\n",
    "    m.results['contacts_COO_len'].append(len(c))"
   ]
  },
  {
   "cell_type": "code",
   "execution_count": 13,
   "metadata": {},
   "outputs": [
    {
     "data": {
      "image/png": "[encoded data removed]",
      "text/plain": [
       "<Figure size 432x288 with 1 Axes>"
      ]
     },
     "metadata": {
      "needs_background": "light"
     },
     "output_type": "display_data"
    }
   ],
   "source": [
    "plt.plot(range(len(m.universe.trajectory)), m.results['contacts_COO_len'])\n",
    "\n",
    "plt.xlabel('Frame')\n",
    "plt.ylabel('Number of contacts')\n",
    "\n",
    "plt.grid()\n",
    "plt.show()"
   ]
  },
  {
   "cell_type": "markdown",
   "metadata": {},
   "source": [
    "# Apply criteria for statistical analysis <a class=\"anchor\" id=\"applycriteria\"></a>"
   ]
  },
  {
   "cell_type": "markdown",
   "metadata": {},
   "source": [
    "Two criteria will be applied: \n",
    "\n",
    "- Distance H12-cof (dist_H12) under 2.75 Å\n",
    "- Dihedral angle C10-C11-C13-C14 (dihedral_C10C11C13C14) 5° around -15°"
   ]
  },
  {
   "cell_type": "code",
   "execution_count": 14,
   "metadata": {},
   "outputs": [],
   "source": [
    "dist_criterium = {\n",
    "                'measure_name' : 'dist_H12',\n",
    "                'measure_type' : 'dist',\n",
    "                'mode' : 'lim',\n",
    "                'ref_val1' : 2.75,\n",
    "}\n",
    "\n",
    "dihe_criterium = {\n",
    "                'measure_name': 'dihe_C10C11C13C14',\n",
    "                'measure_type': 'dihe',\n",
    "                'mode': 'tol',\n",
    "                'ref_val1': -15,\n",
    "                'ref_val2': 5\n",
    "}"
   ]
  },
  {
   "cell_type": "code",
   "execution_count": 15,
   "metadata": {},
   "outputs": [],
   "source": [
    "m.run_boolean(dist_criterium, dihe_criterium) # default arguments: combine=True, save_output=False"
   ]
  },
  {
   "cell_type": "code",
   "execution_count": 16,
   "metadata": {},
   "outputs": [
    {
     "name": "stdout",
     "output_type": "stream",
     "text": [
      "% of frames that satisfy the criterium applied to dist_H12: 30\n",
      "% of frames that satisfy the criterium applied to dihe_C10C11C13C14: 70\n",
      "% of frames that satisfy all criteria: 20\n"
     ]
    }
   ],
   "source": [
    "print('% of frames that satisfy the criterium applied to dist_H12:', str(round((m.boolean['dist_H12'].count(True)*100/len(m.universe.trajectory)))))\n",
    "print('% of frames that satisfy the criterium applied to dihe_C10C11C13C14:', str(round((m.boolean['dihe_C10C11C13C14'].count(True)*100/len(m.universe.trajectory)))))\n",
    "\n",
    "print('% of frames that satisfy all criteria:', str(round((m.boolean['combination'].count(True)*100/len(m.universe.trajectory)))))"
   ]
  },
  {
   "cell_type": "markdown",
   "metadata": {},
   "source": [
    "# Extract frames that satisfy the criteria"
   ]
  },
  {
   "cell_type": "code",
   "execution_count": 17,
   "metadata": {},
   "outputs": [
    {
     "name": "stdout",
     "output_type": "stream",
     "text": [
      "Help on function frame_selector in module RCBS.md_analyser.frame_extractor:\n",
      "\n",
      "frame_selector(frames_boolean, bins=10, frames_per_bin=1)\n",
      "    DESCRIPTION:\n",
      "        Function for randomly select frames from a boolean list (being the index the number of the frame).\n",
      "    \n",
      "    INPUT:\n",
      "        - frames_boolean: list of boolean variables that indicate if the criteria is satisfied or not. The index of the list is the number of the frame.\n",
      "        - bins:           number of partitions of the trajectory to properly distibute the selection\n",
      "        - frames_per_bin: number of frames to select per bin\n",
      "    \n",
      "    OUTPUT:\n",
      "        - list of randomly selected frames\n",
      "\n"
     ]
    }
   ],
   "source": [
    "help(frame_extractor.frame_selector)"
   ]
  },
  {
   "cell_type": "code",
   "execution_count": 18,
   "metadata": {},
   "outputs": [],
   "source": [
    "# since the trajectory has only 10 frames and only 2 satisfy the criteria, the example will extract only one frame\n",
    "\n",
    "selected_frames = frame_extractor.frame_selector(m.boolean['combination'], bins=1, frames_per_bin=1)"
   ]
  },
  {
   "cell_type": "code",
   "execution_count": 19,
   "metadata": {},
   "outputs": [
    {
     "name": "stdout",
     "output_type": "stream",
     "text": [
      "Help on function trajectory_frame_extractor in module RCBS.md_analyser.frame_extractor:\n",
      "\n",
      "trajectory_frame_extractor(u, frame, name='', folder='', outformat='.pdb', solvent=True)\n",
      "    DESCRIPTION:\n",
      "        Function for saving a frame from a trajectory loaded as a MDAnalysis Universe\n",
      "    \n",
      "    INPUTS:\n",
      "        u       --> MDAnalysis Universe\n",
      "                --> It has to be a trajectory.\n",
      "        frame   --> it can be a single frame (input as number or string of number) or a list of frames.\n",
      "        name    --> name for the output file. If more than one frame is input, outputs will be secuencially named\n",
      "        folder  --> folder name where pdbs have to be saved.\n",
      "                --> if the folder does not exist, it will be created.\n",
      "                --> by default, no folder is used\n",
      "        format  --> format for the output file\n",
      "                --> by default, output will be saved as pdb. All formats accepted by the write module of MDAnalysis are accepted.\n",
      "\n"
     ]
    }
   ],
   "source": [
    "help(frame_extractor.trajectory_frame_extractor)"
   ]
  },
  {
   "cell_type": "code",
   "execution_count": 20,
   "metadata": {},
   "outputs": [
    {
     "name": "stderr",
     "output_type": "stream",
     "text": [
      "/Users/mikicanyelles/miniconda3/envs/py_env/lib/python3.9/site-packages/MDAnalysis/coordinates/PDB.py:1078: UserWarning: Found no information for attr: 'altLocs' Using default value of ' '\n",
      "  warnings.warn(\"Found no information for attr: '{}'\"\n",
      "/Users/mikicanyelles/miniconda3/envs/py_env/lib/python3.9/site-packages/MDAnalysis/coordinates/PDB.py:1078: UserWarning: Found no information for attr: 'icodes' Using default value of ' '\n",
      "  warnings.warn(\"Found no information for attr: '{}'\"\n",
      "/Users/mikicanyelles/miniconda3/envs/py_env/lib/python3.9/site-packages/MDAnalysis/coordinates/PDB.py:1078: UserWarning: Found no information for attr: 'chainIDs' Using default value of ''\n",
      "  warnings.warn(\"Found no information for attr: '{}'\"\n",
      "/Users/mikicanyelles/miniconda3/envs/py_env/lib/python3.9/site-packages/MDAnalysis/coordinates/PDB.py:1078: UserWarning: Found no information for attr: 'occupancies' Using default value of '1.0'\n",
      "  warnings.warn(\"Found no information for attr: '{}'\"\n",
      "/Users/mikicanyelles/miniconda3/envs/py_env/lib/python3.9/site-packages/MDAnalysis/coordinates/PDB.py:1078: UserWarning: Found no information for attr: 'tempfactors' Using default value of '0.0'\n",
      "  warnings.warn(\"Found no information for attr: '{}'\"\n",
      "/Users/mikicanyelles/miniconda3/envs/py_env/lib/python3.9/site-packages/MDAnalysis/coordinates/PDB.py:1078: UserWarning: Found no information for attr: 'record_types' Using default value of 'ATOM'\n",
      "  warnings.warn(\"Found no information for attr: '{}'\"\n",
      "/Users/mikicanyelles/miniconda3/envs/py_env/lib/python3.9/site-packages/MDAnalysis/coordinates/PDB.py:1124: UserWarning: Found missing chainIDs. Corresponding atoms will use value of 'X'\n",
      "  warnings.warn(\"Found missing chainIDs.\"\n"
     ]
    }
   ],
   "source": [
    "frame_extractor.trajectory_frame_extractor(m.universe, selected_frames, folder='') \n",
    "# Default arguments: name='' (name of the frame), folder=''(current directory), outformat='.pdb', solvent=True"
   ]
  },
  {
   "cell_type": "code",
   "execution_count": null,
   "metadata": {},
   "outputs": [],
   "source": []
  },
  {
   "cell_type": "code",
   "execution_count": null,
   "metadata": {},
   "outputs": [],
   "source": []
  },
  {
   "cell_type": "code",
   "execution_count": null,
   "metadata": {},
   "outputs": [],
   "source": []
  },
  {
   "cell_type": "code",
   "execution_count": null,
   "metadata": {},
   "outputs": [],
   "source": []
  },
  {
   "cell_type": "code",
   "execution_count": null,
   "metadata": {},
   "outputs": [],
   "source": []
  },
  {
   "cell_type": "code",
   "execution_count": null,
   "metadata": {},
   "outputs": [],
   "source": []
  },
  {
   "cell_type": "code",
   "execution_count": null,
   "metadata": {},
   "outputs": [],
   "source": []
  },
  {
   "cell_type": "code",
   "execution_count": null,
   "metadata": {},
   "outputs": [],
   "source": []
  }
 ],
 "metadata": {
  "kernelspec": {
   "display_name": "Python 3 (ipykernel)",
   "language": "python",
   "name": "python3"
  },
  "language_info": {
   "codemirror_mode": {
    "name": "ipython",
    "version": 3
   },
   "file_extension": ".py",
   "mimetype": "text/x-python",
   "name": "python",
   "nbconvert_exporter": "python",
   "pygments_lexer": "ipython3",
   "version": "3.9.10"
  }
 },
 "nbformat": 4,
 "nbformat_minor": 4
}
